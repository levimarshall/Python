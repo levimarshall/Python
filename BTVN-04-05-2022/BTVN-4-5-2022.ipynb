{
 "cells": [
  {
   "cell_type": "code",
   "execution_count": 25,
   "id": "4f045f34",
   "metadata": {},
   "outputs": [
    {
     "name": "stdout",
     "output_type": "stream",
     "text": [
      "['1', '2', '3', '4', '5', '6', '7', '8', '9', '10']\n",
      "['2', '3', '5', '7']\n",
      "4.25\n"
     ]
    }
   ],
   "source": [
    "my_string = '1 2 3 4 5 6 7 8 9 10'\n",
    "\n",
    "list_my_string = my_string.split( )\n",
    "\n",
    "print(list_my_string)\n",
    "\n",
    "def check_prime_number(n):\n",
    "    #flag = 0 => không phải số nguyên tố\n",
    "    #flag = 1 => số nguyên tố\n",
    "    flag = 1;\n",
    "    if (n <2):\n",
    "        flag = 0\n",
    "        return flag  #Số nhỏ hơn 2 không phải số nguyên tố => trả về 0\n",
    "    \n",
    "    #Sử dụng vòng lặp while để kiểm tra có tồn tại ước số nào khác không\n",
    "    for p in range(2, n):\n",
    "        if n % p == 0:\n",
    "            flag = 0\n",
    "            break #Chỉ cần tìm thấy 1 ước số là đủ và thoát vòng lặp\n",
    "    return flag\n",
    "count = 0\n",
    "sum = 0\n",
    "prime_list = []\n",
    "for i in list_my_string:\n",
    "    check = check_prime_number(int(i))\n",
    "    if check == 1:\n",
    "        prime_list.append(i)\n",
    "        count += 1\n",
    "        sum += int(i)\n",
    "        \n",
    "print(prime_list)\n",
    "print(sum/count)\n",
    "        "
   ]
  },
  {
   "cell_type": "code",
   "execution_count": 24,
   "id": "6c525ce8",
   "metadata": {},
   "outputs": [
    {
     "name": "stdout",
     "output_type": "stream",
     "text": [
      "Nhập thời gian (eg: 06-10,12-14,13-18): 07-12,15-20,16-22\n",
      "['07-12', '15-20', '16-22']\n",
      "['07', '15', '16']\n",
      "['12', '20', '22']\n",
      "16\n",
      "4\n",
      "12\n"
     ]
    }
   ],
   "source": [
    "working_time = input('Nhập thời gian (eg: 06-10,12-14,13-18): ') \n",
    "#'06-10,12-14,13-18'\n",
    "\n",
    "list_working_time = working_time.split(',')\n",
    "\n",
    "print(list_working_time)\n",
    "\n",
    "list_start_time = []\n",
    "list_end_time = []\n",
    "total_working_time = 0 \n",
    "dup_time = 0\n",
    "for i in list_working_time:\n",
    "\n",
    "    list_start_time.append(i[0:2])\n",
    "    list_end_time.append(i[3:5])    \n",
    "\n",
    "    total_working_time += int(i[3:5]) - int(i[0:2])\n",
    "\n",
    "for j in range(0,len(list_start_time)-1):\n",
    "    if int(list_end_time[j]) > int(list_start_time[j+1]):\n",
    "        dup_time += int(list_end_time[j]) - int(list_start_time[j+1])\n",
    "    if j == len(list_start_time)-1:\n",
    "        break\n",
    "\n",
    "\n",
    "print(list_start_time)\n",
    "print(list_end_time)\n",
    "\n",
    "\n",
    "print(total_working_time)\n",
    "print(dup_time)\n",
    "\n",
    "print(total_working_time-dup_time)\n"
   ]
  },
  {
   "cell_type": "code",
   "execution_count": null,
   "id": "80bae084",
   "metadata": {},
   "outputs": [],
   "source": []
  }
 ],
 "metadata": {
  "kernelspec": {
   "display_name": "Python 3 (ipykernel)",
   "language": "python",
   "name": "python3"
  },
  "language_info": {
   "codemirror_mode": {
    "name": "ipython",
    "version": 3
   },
   "file_extension": ".py",
   "mimetype": "text/x-python",
   "name": "python",
   "nbconvert_exporter": "python",
   "pygments_lexer": "ipython3",
   "version": "3.9.7"
  }
 },
 "nbformat": 4,
 "nbformat_minor": 5
}
