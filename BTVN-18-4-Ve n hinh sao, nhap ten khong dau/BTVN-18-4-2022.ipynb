{
 "cells": [
  {
   "cell_type": "code",
   "execution_count": null,
   "id": "c8af1ac3",
   "metadata": {},
   "outputs": [],
   "source": [
    "n = int(input('Nhập vào N: '))\n",
    "m = int(input('Nhập vào M: '))\n",
    "b = [ ]\n",
    "c = [ ]\n",
    "d = [ ]\n",
    "for i in range(1,n+1):\n",
    "    if n%i==0:\n",
    "        b.append(i)\n",
    "for j in range(1,m+1):\n",
    "    if m%j==0:\n",
    "        c.append(j)\n",
    "for a in b:\n",
    "    if a in c:\n",
    "        d.append(a)\n",
    "print(d[-1])\n"
   ]
  },
  {
   "cell_type": "code",
   "execution_count": null,
   "id": "cf2561ce",
   "metadata": {},
   "outputs": [],
   "source": [
    "n = int(input('Nhập vào N: '))\n",
    "m = int(input('Nhập vào M: '))\n",
    "if m==n:\n",
    "    print(m)\n",
    "while n!= m:\n",
    "    if n > m:\n",
    "        n-=m\n",
    "    else:\n",
    "        m-=n\n",
    "print(n)"
   ]
  },
  {
   "cell_type": "code",
   "execution_count": null,
   "id": "00984435",
   "metadata": {},
   "outputs": [],
   "source": [
    "n = input('Nhập tên có dấu: ').title()\n",
    "check = ['àáạảãâầấậẩẫăằắặẳẵ','ÀÁẠẢÃĂẰẮẶẲẴÂẦẤẬẨẪ','èéẹẻẽêềếệểễ', 'ÈÉẸẺẼÊỀẾỆỂỄ','ùúụủũưừứựửữ','ƯỪỨỰỬỮÙÚỤỦŨ','ỳýỵỷỹ','ỲÝỴỶỸ','ÌÍỊỈĨ','ìíịỉĩ','òóọỏõờớợởỡồốộổỗ','ÒÓỌỎÕỜỚỢỞỠỒỐỘỔỖ','đ','Đ']\n",
    "check1 = ['a','A','e','E','u','U','y','Y','I','i','o','O','d','D']\n",
    "\n",
    "c = 0\n",
    "while c  < 13:\n",
    "    for g in n:\n",
    "        for g in check[c]:\n",
    "            n = n.replace(g,check1[c])\n",
    "    c+=1\n",
    "\n",
    "print(n)"
   ]
  },
  {
   "cell_type": "code",
   "execution_count": null,
   "id": "cd3f893d",
   "metadata": {},
   "outputs": [],
   "source": [
    "import turtle\n",
    "\n",
    "rua = turtle.Turtle()\n",
    "\n",
    "def ve1hinhsao(x):\n",
    "    i = 0\n",
    "    while i < 5:\n",
    "        rua.left(144)\n",
    "        rua.fd(x)\n",
    "        i+=1\n",
    "def venhinhsao(y):\n",
    "    j = 0\n",
    "    for j in range(0,n):\n",
    "        rua.penup()\n",
    "        rua.goto(y*j,y*j)\n",
    "        rua.pendown()\n",
    "        ve1hinhsao(y)\n",
    "        \n",
    "n = int(input('Nhập n: '))\n",
    "a = int(input('Nhập kích thước hình sao mong muốn (đơn vị pixel): '))\n",
    "\n",
    "venhinhsao(a)\n",
    "\n",
    "turtle.done()\n"
   ]
  },
  {
   "cell_type": "code",
   "execution_count": null,
   "id": "22d73551",
   "metadata": {},
   "outputs": [],
   "source": []
  }
 ],
 "metadata": {
  "kernelspec": {
   "display_name": "Python 3 (ipykernel)",
   "language": "python",
   "name": "python3"
  },
  "language_info": {
   "codemirror_mode": {
    "name": "ipython",
    "version": 3
   },
   "file_extension": ".py",
   "mimetype": "text/x-python",
   "name": "python",
   "nbconvert_exporter": "python",
   "pygments_lexer": "ipython3",
   "version": "3.9.7"
  }
 },
 "nbformat": 4,
 "nbformat_minor": 5
}
