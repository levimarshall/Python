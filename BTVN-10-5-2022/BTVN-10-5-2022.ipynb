{
 "cells": [
  {
   "cell_type": "code",
   "execution_count": 1,
   "id": "d2c3733d",
   "metadata": {},
   "outputs": [
    {
     "name": "stdout",
     "output_type": "stream",
     "text": [
      "Type your answer at blank box, in case you do not wanna play anymore, pls type quit\n",
      "What is the meaning of cow?bò\n",
      "True\n",
      "What is the meaning of bird?chim\n",
      "True\n",
      "What is the meaning of cow?bò\n",
      "True\n",
      "What is the meaning of buffalo?bò\n",
      "False\n",
      "What is the meaning of cat?quit\n"
     ]
    }
   ],
   "source": [
    "import random\n",
    "\n",
    "my_dict = {'dog' : 'chó', 'cat':'mèo', 'bird' :'chim', 'fish':'cá', 'bear' :'gấu', 'cow' :'bò', 'buffalo' :'trâu'           \n",
    "}\n",
    "\n",
    "\n",
    "list_key = []\n",
    "list_value = []\n",
    "for i in my_dict:\n",
    "    list_key.append(i)\n",
    "    list_value.append(my_dict.get('{0}'.format(i)))\n",
    "\n",
    "print('Type your answer at blank box, in case you do not wanna play anymore, pls type quit')\n",
    "    \n",
    "while 1==1:\n",
    "    i = random.randint(0,len(my_dict)-1)\n",
    "    ans = input('What is the meaning of {0}?'.format(list_key[i]))\n",
    "    if ans == list_value[i]:\n",
    "        print('True')\n",
    "    elif ans == 'quit':\n",
    "        break\n",
    "    else:\n",
    "        print('False')    \n",
    "    \n",
    "\n",
    "    "
   ]
  },
  {
   "cell_type": "code",
   "execution_count": null,
   "id": "b90f52b0",
   "metadata": {},
   "outputs": [],
   "source": []
  }
 ],
 "metadata": {
  "kernelspec": {
   "display_name": "Python 3 (ipykernel)",
   "language": "python",
   "name": "python3"
  },
  "language_info": {
   "codemirror_mode": {
    "name": "ipython",
    "version": 3
   },
   "file_extension": ".py",
   "mimetype": "text/x-python",
   "name": "python",
   "nbconvert_exporter": "python",
   "pygments_lexer": "ipython3",
   "version": "3.9.7"
  }
 },
 "nbformat": 4,
 "nbformat_minor": 5
}
