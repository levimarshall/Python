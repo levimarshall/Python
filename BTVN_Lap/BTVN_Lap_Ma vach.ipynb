{
 "cells": [
  {
   "cell_type": "code",
   "execution_count": null,
   "id": "0e08c91e",
   "metadata": {},
   "outputs": [],
   "source": [
    "# 4902778120972  đúng\n",
    "# 4902778120973  sai\n",
    "\n",
    "mavach = input('Nhập vào mã vạch: ')\n",
    "\n",
    "c = mavach[-1]\n",
    "i = 0\n",
    "j = 1\n",
    "a = 0\n",
    "b = 0\n",
    "\n",
    "while i < 11:\n",
    "    sa =int(mavach[i])\n",
    "    a += sa\n",
    "    i += 2\n",
    "\n",
    "while j < 12:\n",
    "    sb =int(mavach[j])\n",
    "    b += sb\n",
    "    j += 2\n",
    "    \n",
    "d = a +3*b\n",
    "e = d % 10\n",
    "\n",
    "if e == 0:\n",
    "    f = e\n",
    "else:\n",
    "    f = 10-e\n",
    "\n",
    "print(f==int(c))"
   ]
  },
  {
   "cell_type": "code",
   "execution_count": null,
   "id": "4ebb2104",
   "metadata": {},
   "outputs": [],
   "source": []
  }
 ],
 "metadata": {
  "kernelspec": {
   "display_name": "Python 3 (ipykernel)",
   "language": "python",
   "name": "python3"
  },
  "language_info": {
   "codemirror_mode": {
    "name": "ipython",
    "version": 3
   },
   "file_extension": ".py",
   "mimetype": "text/x-python",
   "name": "python",
   "nbconvert_exporter": "python",
   "pygments_lexer": "ipython3",
   "version": "3.9.7"
  }
 },
 "nbformat": 4,
 "nbformat_minor": 5
}
