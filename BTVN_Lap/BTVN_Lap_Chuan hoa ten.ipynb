{
 "cells": [
  {
   "cell_type": "code",
   "execution_count": 9,
   "id": "1c9f89cb",
   "metadata": {},
   "outputs": [
    {
     "name": "stdout",
     "output_type": "stream",
     "text": [
      "Nhập vào họ và tên: nguyễn ngọc bình\n",
      "Nguyễn Ngọc Bình "
     ]
    }
   ],
   "source": [
    "ten = input('Nhập vào họ và tên: ').title().split(' ')\n",
    "\n",
    "for i in ten:\n",
    "    if i.isalpha():\n",
    "        ten1 = i\n",
    "        print(ten1, end = (' '))\n",
    "        "
   ]
  },
  {
   "cell_type": "code",
   "execution_count": null,
   "id": "caee2b5c",
   "metadata": {},
   "outputs": [],
   "source": []
  }
 ],
 "metadata": {
  "kernelspec": {
   "display_name": "Python 3 (ipykernel)",
   "language": "python",
   "name": "python3"
  },
  "language_info": {
   "codemirror_mode": {
    "name": "ipython",
    "version": 3
   },
   "file_extension": ".py",
   "mimetype": "text/x-python",
   "name": "python",
   "nbconvert_exporter": "python",
   "pygments_lexer": "ipython3",
   "version": "3.9.7"
  }
 },
 "nbformat": 4,
 "nbformat_minor": 5
}
