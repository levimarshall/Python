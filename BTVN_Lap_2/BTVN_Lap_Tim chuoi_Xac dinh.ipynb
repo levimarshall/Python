{
 "cells": [
  {
   "cell_type": "code",
   "execution_count": 32,
   "id": "0412e2d5",
   "metadata": {
    "scrolled": true
   },
   "outputs": [
    {
     "name": "stdout",
     "output_type": "stream",
     "text": [
      "Nhap 1 chuoi bat ky: 1239817283\n",
      "1 2 3 981 72 83\n",
      "['981', '83', '72', '3', '2', '1']\n",
      "981\n"
     ]
    }
   ],
   "source": [
    "# 09543134247431035\n",
    "# 95431\n",
    "# 74310\n",
    "\n",
    "chuoi = input('Nhap 1 chuoi bat ky: ')\n",
    "i = 0\n",
    "chuoi1 = ''\n",
    "while i < (len(chuoi)-1):\n",
    "    if int(chuoi[i]) < int(chuoi[i+1]):\n",
    "        chuoi1 += chuoi[i] +' '\n",
    "    else:\n",
    "        chuoi1 += chuoi[i]\n",
    "    i += 1\n",
    "chuoi1 += chuoi[-1]\n",
    "print(chuoi1)\n",
    "chuoi2 = chuoi1.split(' ')\n",
    "\n",
    "chuoi2.sort(reverse=True)\n",
    "print(chuoi2)\n",
    "if len(chuoi2[0]) == len(chuoi2[1]):\n",
    "    print(chuoi2[0], chuoi2[1])\n",
    "elif len(chuoi2[0]) > len(chuoi2[1]):\n",
    "    print(chuoi2[0])\n",
    "else:\n",
    "    print(chuoi2[1])\n"
   ]
  },
  {
   "cell_type": "code",
   "execution_count": 48,
   "id": "ae811b70",
   "metadata": {},
   "outputs": [
    {
     "name": "stdout",
     "output_type": "stream",
     "text": [
      "Nhập vào tọa độ, ví dụ tọa độ (0,2) thì nhập 0 2: -3 -1\n",
      "Nằm ngoài\n"
     ]
    }
   ],
   "source": [
    "# A(6,0) B(0,2) C(0,-2)\n",
    "import math\n",
    "sABC = 0.5*math.fabs((0-6)*(-2-0)-(0-6)*(2-0))\n",
    "\n",
    "diem = input('Nhập vào tọa độ, ví dụ tọa độ (0,2) thì nhập 0 2: ')\n",
    "\n",
    "diem1 = diem.split(' ')\n",
    "\n",
    "if diem1[0] == '0':\n",
    "    if int(diem1[1]) > 2 or int(diem1[1]) < -2:\n",
    "        print('Nằm ngoài')\n",
    "    else:\n",
    "        print('Nằm trong')\n",
    "else: \n",
    "    if int(diem1[0]) > 0:\n",
    "        s1 = 0.5*math.fabs((6-int(diem1[0]))*(2-int(diem1[1]))-(0-int(diem1[0]))*(0-int(diem1[1])))\n",
    "        s2 = 0.5*math.fabs((6-int(diem1[0]))*(-2-int(diem1[1]))-(0-int(diem1[0]))*(0-int(diem1[1])))\n",
    "        s3 = 0.5*math.fabs((0-int(diem1[0]))*(-2-int(diem1[1]))-(0-int(diem1[0]))*(2-int(diem1[1])))\n",
    "        s4 = s1+s2+s3\n",
    "        if s4 <= sABC:\n",
    "            print('Nằm trong')\n",
    "        else:\n",
    "            print('Nằm ngoài')\n",
    "    else:\n",
    "        d = math.sqrt((int(diem1[0]))**2 + (int(diem1[1]))**2)\n",
    "        if d > 2:\n",
    "            print('Nằm ngoài')\n",
    "        else:\n",
    "            print('Nằm trong')\n",
    "    "
   ]
  },
  {
   "cell_type": "code",
   "execution_count": null,
   "id": "e06c50dd",
   "metadata": {},
   "outputs": [],
   "source": []
  }
 ],
 "metadata": {
  "kernelspec": {
   "display_name": "Python 3 (ipykernel)",
   "language": "python",
   "name": "python3"
  },
  "language_info": {
   "codemirror_mode": {
    "name": "ipython",
    "version": 3
   },
   "file_extension": ".py",
   "mimetype": "text/x-python",
   "name": "python",
   "nbconvert_exporter": "python",
   "pygments_lexer": "ipython3",
   "version": "3.9.7"
  }
 },
 "nbformat": 4,
 "nbformat_minor": 5
}
