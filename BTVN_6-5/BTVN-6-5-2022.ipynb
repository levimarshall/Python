{
 "cells": [
  {
   "cell_type": "code",
   "execution_count": 11,
   "id": "b3249e0e",
   "metadata": {},
   "outputs": [
    {
     "name": "stdout",
     "output_type": "stream",
     "text": [
      "Nhập số phần tử mong muốn: 10\n",
      "(72, 76, 24, 91, 43, 22, 61, 2, 64, 47)\n",
      "(144, 152, 48, 182, 86, 44, 122, 4, 128, 94)\n",
      "()\n"
     ]
    }
   ],
   "source": [
    "import random\n",
    "\n",
    "n = int(input('Nhập số phần tử mong muốn: '))\n",
    "\n",
    "tuple1 = ()\n",
    "\n",
    "tuple2 = ()\n",
    "\n",
    "tuple3 = ()\n",
    "\n",
    "\n",
    "for j in range(n):\n",
    "    a = random.randint(0,100)\n",
    "    tuple1 += (a,)\n",
    "    tuple2 += (a*2,)\n",
    "    \n",
    "for i in tuple1:\n",
    "    if i in tuple2:\n",
    "        tuple3+=(i,)\n",
    "        \n",
    "print(tuple1)\n",
    "print(tuple2)\n",
    "print(tuple3)\n",
    "\n",
    "\n"
   ]
  },
  {
   "cell_type": "code",
   "execution_count": 50,
   "id": "1a6da60e",
   "metadata": {},
   "outputs": [
    {
     "name": "stdout",
     "output_type": "stream",
     "text": [
      "Nhập n: 4\n",
      "Nhập m: 5\n",
      "[[2, 4, 4, 6], [2, 5, 3, 5], [7, 5, 8, 8], [2, 6, 1, 3], [3, 9, 4, 10]]\n",
      "[4.0, 3.75, 7.0, 3.0, 6.5]\n"
     ]
    }
   ],
   "source": [
    "import random\n",
    "\n",
    "def avg_sum(my_list):\n",
    "    avg = 0\n",
    "    total_sum = 0\n",
    "    for i in my_list:\n",
    "        total_sum += i\n",
    "        avg = total_sum/len(my_list)\n",
    "    return avg\n",
    "\n",
    "list_a = []\n",
    "list_avg = []\n",
    "n = int(input('Nhập n: '))\n",
    "m = int(input('Nhập m: '))\n",
    "\n",
    "def create_list(n):\n",
    "    div_list_a = []\n",
    "    for i in range(n):\n",
    "        a = random.randint(0,10)\n",
    "        div_list_a.append(a)\n",
    "    return div_list_a\n",
    "\n",
    "for j in range(m):\n",
    "    list_a.append(create_list(n))\n",
    "\n",
    "for k in range(m):\n",
    "    list_avg.append(avg_sum(list_a[k]))\n",
    "    \n",
    "print(list_a)\n",
    "print(list_avg)\n",
    "\n",
    "\n",
    "\n",
    "\n",
    "\n",
    "        "
   ]
  },
  {
   "cell_type": "code",
   "execution_count": null,
   "id": "0521366d",
   "metadata": {},
   "outputs": [],
   "source": []
  }
 ],
 "metadata": {
  "kernelspec": {
   "display_name": "Python 3 (ipykernel)",
   "language": "python",
   "name": "python3"
  },
  "language_info": {
   "codemirror_mode": {
    "name": "ipython",
    "version": 3
   },
   "file_extension": ".py",
   "mimetype": "text/x-python",
   "name": "python",
   "nbconvert_exporter": "python",
   "pygments_lexer": "ipython3",
   "version": "3.9.7"
  }
 },
 "nbformat": 4,
 "nbformat_minor": 5
}
