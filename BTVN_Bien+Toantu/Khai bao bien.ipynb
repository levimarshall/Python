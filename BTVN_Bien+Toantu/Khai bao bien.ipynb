{
 "cells": [
  {
   "cell_type": "code",
   "execution_count": 2,
   "id": "4de7f610",
   "metadata": {},
   "outputs": [
    {
     "ename": "IndentationError",
     "evalue": "unexpected indent (Temp/ipykernel_1456/1201378460.py, line 21)",
     "output_type": "error",
     "traceback": [
      "\u001b[1;36m  File \u001b[1;32m\"C:\\Users\\Admin\\AppData\\Local\\Temp/ipykernel_1456/1201378460.py\"\u001b[1;36m, line \u001b[1;32m21\u001b[0m\n\u001b[1;33m    rua2.begin_fill()\u001b[0m\n\u001b[1;37m    ^\u001b[0m\n\u001b[1;31mIndentationError\u001b[0m\u001b[1;31m:\u001b[0m unexpected indent\n"
     ]
    }
   ],
   "source": [
    "import turtle\n",
    "\n",
    "# format hình chữ nhật theo tỷ lệ dài : rộng = 5 : 3 và ở chính giữa\n",
    "# tỷ lệ theo kích thước thật, đường kính hình tròn = 2/3 chiều rộng\n",
    "\n",
    "height = 300\n",
    "width = 500\n",
    "\n",
    "rua2 = turtle.Turtle()\n",
    "rua2.shape('turtle')\n",
    "rua2.hideturtle()\n",
    "rua2.fillcolor('green')\n",
    "rua2.pencolor('green')\n",
    "\n",
    "rua1 = turtle.Turtle()\n",
    "rua1.shape=('turtle')\n",
    "rua1.hideturtle()\n",
    "rua1.fillcolor('red')\n",
    "rua1.pencolor('red')\n",
    "\n",
    "    rua2.begin_fill()\n",
    "    rua2.penup()\n",
    "    rua2.forward(width/2)\n",
    "    rua2.pendown()\n",
    "    rua2.left(90)\n",
    "    rua2.forward(height/2)\n",
    "    rua2.left(90)\n",
    "    rua2.forward(width)\n",
    "    rua2.left(90)\n",
    "    rua2.forward(height)\n",
    "    rua2.left(90)\n",
    "    rua2.forward(width)\n",
    "    rua2.left(90)\n",
    "    rua2.forward(height/2)\n",
    "    rua2.end_fill()\n",
    "\n",
    "    rua1.begin_fill()\n",
    "    rua1.penup()\n",
    "    rua1.forward(width/8)\n",
    "    rua1.pendown()\n",
    "    rua1.left(90)\n",
    "    rua1.circle(height/3)\n",
    "    rua1.end_fill()\n",
    "\n",
    "turtle.done()\n"
   ]
  },
  {
   "cell_type": "code",
   "execution_count": null,
   "id": "4109dad7",
   "metadata": {},
   "outputs": [],
   "source": [
    "pwd"
   ]
  },
  {
   "cell_type": "code",
   "execution_count": null,
   "id": "ef3bd2b6",
   "metadata": {},
   "outputs": [],
   "source": []
  }
 ],
 "metadata": {
  "kernelspec": {
   "display_name": "Python 3 (ipykernel)",
   "language": "python",
   "name": "python3"
  },
  "language_info": {
   "codemirror_mode": {
    "name": "ipython",
    "version": 3
   },
   "file_extension": ".py",
   "mimetype": "text/x-python",
   "name": "python",
   "nbconvert_exporter": "python",
   "pygments_lexer": "ipython3",
   "version": "3.9.7"
  }
 },
 "nbformat": 4,
 "nbformat_minor": 5
}
