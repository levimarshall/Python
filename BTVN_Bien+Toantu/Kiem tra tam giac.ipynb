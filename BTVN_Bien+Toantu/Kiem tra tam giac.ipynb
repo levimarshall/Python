{
 "cells": [
  {
   "cell_type": "code",
   "execution_count": 48,
   "id": "5973872b",
   "metadata": {},
   "outputs": [
    {
     "name": "stdout",
     "output_type": "stream",
     "text": [
      "co phai tam giac hay khong True\n",
      "tam giac vuong False\n",
      "tam giac can True\n",
      "tam giac deu False\n",
      "tam giac tu False\n"
     ]
    }
   ],
   "source": [
    "x1 = 0\n",
    "y1 = 2\n",
    "\n",
    "x2 = 3\n",
    "y2 = 0\n",
    "\n",
    "x3 = -3\n",
    "y3 = 0\n",
    "\n",
    "d1 = ((x1-x2)**2 + (y1-y2)**2)**0.5\n",
    "d2 = ((x2-x3)**2 + (y2-y3)**2)**0.5\n",
    "d3 = ((x1-x3)**2 + (y1-y3)**2)**0.5\n",
    "\n",
    "check = d1 + d2 > d3 and d2 + d3 > d1 and d1 + d3 > d2\n",
    "\n",
    "print('co phai tam giac hay khong', check)\n",
    "\n",
    "if check == True:\n",
    "    \n",
    "    tamgiacvuong = d1**2 + d2**2 == d3**2 or d1**2 + d3**2 == d2**2 or d2**2 + d3**2 == d1**2;\n",
    "    print('tam giac vuong', tamgiacvuong);\n",
    "    \n",
    "    tamgiaccan = d1 == d2 != d3  or d2 == d3 != d1 or d1 == d3 != d2;\n",
    "    print('tam giac can', tamgiaccan);\n",
    "    \n",
    "    tamgiacdeu = d1 == d2 == d3;\n",
    "    print('tam giac deu', tamgiacdeu);\n",
    "    \n",
    "    tamgiactu = d1**2 + d2**2 > d3**2 and d1**2 + d3**2 > d2**2 and d2**2 + d3**2 > d1**2;\n",
    "    print('tam giac tu', tamgiactu);\n",
    "    \n"
   ]
  },
  {
   "cell_type": "code",
   "execution_count": null,
   "id": "1ce19880",
   "metadata": {},
   "outputs": [],
   "source": []
  }
 ],
 "metadata": {
  "kernelspec": {
   "display_name": "Python 3 (ipykernel)",
   "language": "python",
   "name": "python3"
  },
  "language_info": {
   "codemirror_mode": {
    "name": "ipython",
    "version": 3
   },
   "file_extension": ".py",
   "mimetype": "text/x-python",
   "name": "python",
   "nbconvert_exporter": "python",
   "pygments_lexer": "ipython3",
   "version": "3.9.7"
  }
 },
 "nbformat": 4,
 "nbformat_minor": 5
}
