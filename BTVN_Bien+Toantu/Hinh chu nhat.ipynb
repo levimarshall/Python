{
 "cells": [
  {
   "cell_type": "code",
   "execution_count": 1,
   "id": "3b904e0e",
   "metadata": {},
   "outputs": [
    {
     "name": "stdout",
     "output_type": "stream",
     "text": [
      "19314\n"
     ]
    }
   ],
   "source": [
    "x = 111\n",
    "y = 87\n",
    "z = 56\n",
    "\n",
    "a = 3\n",
    "\n",
    "t1 = x // a\n",
    "t2 = y // a\n",
    "t3 = z // a\n",
    "\n",
    "v = t1*t2*t3\n",
    "\n",
    "print(v)\n"
   ]
  },
  {
   "cell_type": "code",
   "execution_count": null,
   "id": "0af57f29",
   "metadata": {},
   "outputs": [],
   "source": []
  }
 ],
 "metadata": {
  "kernelspec": {
   "display_name": "Python 3 (ipykernel)",
   "language": "python",
   "name": "python3"
  },
  "language_info": {
   "codemirror_mode": {
    "name": "ipython",
    "version": 3
   },
   "file_extension": ".py",
   "mimetype": "text/x-python",
   "name": "python",
   "nbconvert_exporter": "python",
   "pygments_lexer": "ipython3",
   "version": "3.9.7"
  }
 },
 "nbformat": 4,
 "nbformat_minor": 5
}
