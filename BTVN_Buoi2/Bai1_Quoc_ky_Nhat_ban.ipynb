{
 "cells": [
  {
   "cell_type": "code",
   "execution_count": 1,
   "id": "4de7f610",
   "metadata": {},
   "outputs": [],
   "source": [
    "import turtle\n",
    "\n",
    "# format hình chữ nhật theo tỷ lệ dài : rộng = 3 : 2 và ở chính giữa, dài = 600, rộng = 400\n",
    "# hình tròn tâm bán kính = 120, đường kính = 240\n",
    "# tỷ lệ theo kích thước thật, đường kính hình tròn = 3/5 chiều rộng\n",
    "\n",
    "rua2 = turtle.Turtle()\n",
    "rua2.shape('turtle')\n",
    "rua2.hideturtle()\n",
    "rua2.fillcolor('white')\n",
    "rua2.pencolor('black')\n",
    "\n",
    "rua1 = turtle.Turtle()\n",
    "rua1.shape=('turtle')\n",
    "rua1.hideturtle()\n",
    "rua1.fillcolor('red')\n",
    "rua1.pencolor('red')\n",
    "\n",
    "# đặt màu bút rua2 là black vì màu cờ trắng cùng với màu nền\n",
    "\n",
    "rua2.begin_fill()\n",
    "rua2.penup()\n",
    "rua2.forward(300)\n",
    "rua2.pendown()\n",
    "rua2.left(90)\n",
    "rua2.forward(200)\n",
    "rua2.left(90)\n",
    "rua2.forward(600)\n",
    "rua2.left(90)\n",
    "rua2.forward(400)\n",
    "rua2.left(90)\n",
    "rua2.forward(600)\n",
    "rua2.left(90)\n",
    "rua2.forward(200)\n",
    "rua2.end_fill()\n",
    "\n",
    "rua1.begin_fill()\n",
    "rua1.penup()\n",
    "rua1.forward(120)\n",
    "rua1.pendown()\n",
    "rua1.left(90)\n",
    "rua1.circle(120)\n",
    "rua1.end_fill()\n",
    "\n",
    "turtle.done()\n"
   ]
  }
 ],
 "metadata": {
  "kernelspec": {
   "display_name": "Python 3 (ipykernel)",
   "language": "python",
   "name": "python3"
  },
  "language_info": {
   "codemirror_mode": {
    "name": "ipython",
    "version": 3
   },
   "file_extension": ".py",
   "mimetype": "text/x-python",
   "name": "python",
   "nbconvert_exporter": "python",
   "pygments_lexer": "ipython3",
   "version": "3.9.7"
  }
 },
 "nbformat": 4,
 "nbformat_minor": 5
}
