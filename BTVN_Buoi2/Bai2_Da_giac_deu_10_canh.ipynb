{
 "cells": [
  {
   "cell_type": "code",
   "execution_count": 1,
   "id": "dbaac52a",
   "metadata": {},
   "outputs": [],
   "source": [
    "import turtle\n",
    "\n",
    "rua1 = turtle.Turtle()\n",
    "rua1.hideturtle()\n",
    "\n",
    "rua1.penup()\n",
    "rua1.forward(325)\n",
    "rua1.pendown()\n",
    "rua1.left(108)\n",
    "rua1.forward(200)\n",
    "rua1.left(36)\n",
    "rua1.forward(200)\n",
    "rua1.left(36)\n",
    "rua1.forward(200)\n",
    "rua1.left(36)\n",
    "rua1.forward(200)\n",
    "rua1.left(36)\n",
    "rua1.forward(200)\n",
    "rua1.left(36)\n",
    "rua1.forward(200)\n",
    "rua1.left(36)\n",
    "rua1.forward(200)\n",
    "rua1.left(36)\n",
    "rua1.forward(200)\n",
    "rua1.left(36)\n",
    "rua1.forward(200)\n",
    "rua1.left(36)\n",
    "rua1.forward(200)\n",
    "\n",
    "turtle.done()\n"
   ]
  },
  {
   "cell_type": "code",
   "execution_count": 2,
   "id": "e84b6e5c",
   "metadata": {},
   "outputs": [
    {
     "data": {
      "text/plain": [
       "'C:\\\\Users\\\\Admin'"
      ]
     },
     "execution_count": 2,
     "metadata": {},
     "output_type": "execute_result"
    }
   ],
   "source": [
    "pwd\n"
   ]
  },
  {
   "cell_type": "code",
   "execution_count": null,
   "id": "f2c5874a",
   "metadata": {},
   "outputs": [],
   "source": []
  }
 ],
 "metadata": {
  "kernelspec": {
   "display_name": "Python 3 (ipykernel)",
   "language": "python",
   "name": "python3"
  },
  "language_info": {
   "codemirror_mode": {
    "name": "ipython",
    "version": 3
   },
   "file_extension": ".py",
   "mimetype": "text/x-python",
   "name": "python",
   "nbconvert_exporter": "python",
   "pygments_lexer": "ipython3",
   "version": "3.9.7"
  }
 },
 "nbformat": 4,
 "nbformat_minor": 5
}
