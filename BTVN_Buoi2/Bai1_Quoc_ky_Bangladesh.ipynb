{
 "cells": [
  {
   "cell_type": "code",
   "execution_count": null,
   "id": "4de7f610",
   "metadata": {},
   "outputs": [],
   "source": [
    "import turtle\n",
    "\n",
    "# format hình chữ nhật theo tỷ lệ dài : rộng = 5 : 3 và ở chính giữa, dài = 500, rộng = 300\n",
    "# hình tròn tâm bán kính = 100, đường kính = 200\n",
    "# tỷ lệ theo kích thước thật, đường kính hình tròn = 2/3 chiều rộng\n",
    "\n",
    "rua2 = turtle.Turtle()\n",
    "rua2.shape('turtle')\n",
    "rua2.hideturtle()\n",
    "rua2.fillcolor('green')\n",
    "rua2.pencolor('green')\n",
    "\n",
    "rua1 = turtle.Turtle()\n",
    "rua1.shape=('turtle')\n",
    "rua1.hideturtle()\n",
    "rua1.fillcolor('red')\n",
    "rua1.pencolor('red')\n",
    "\n",
    "\n",
    "rua2.begin_fill()\n",
    "rua2.penup()\n",
    "rua2.forward(250)\n",
    "rua2.pendown()\n",
    "rua2.left(90)\n",
    "rua2.forward(150)\n",
    "rua2.left(90)\n",
    "rua2.forward(500)\n",
    "rua2.left(90)\n",
    "rua2.forward(300)\n",
    "rua2.left(90)\n",
    "rua2.forward(500)\n",
    "rua2.left(90)\n",
    "rua2.forward(150)\n",
    "rua2.end_fill()\n",
    "\n",
    "rua1.begin_fill()\n",
    "rua1.penup()\n",
    "rua1.forward(50)\n",
    "rua1.pendown()\n",
    "rua1.left(90)\n",
    "rua1.circle(100)\n",
    "rua1.end_fill()\n",
    "\n",
    "turtle.done()\n"
   ]
  },
  {
   "cell_type": "code",
   "execution_count": null,
   "id": "4109dad7",
   "metadata": {},
   "outputs": [],
   "source": [
    "pwd"
   ]
  },
  {
   "cell_type": "code",
   "execution_count": null,
   "id": "ef3bd2b6",
   "metadata": {},
   "outputs": [],
   "source": []
  }
 ],
 "metadata": {
  "kernelspec": {
   "display_name": "Python 3 (ipykernel)",
   "language": "python",
   "name": "python3"
  },
  "language_info": {
   "codemirror_mode": {
    "name": "ipython",
    "version": 3
   },
   "file_extension": ".py",
   "mimetype": "text/x-python",
   "name": "python",
   "nbconvert_exporter": "python",
   "pygments_lexer": "ipython3",
   "version": "3.9.7"
  }
 },
 "nbformat": 4,
 "nbformat_minor": 5
}
