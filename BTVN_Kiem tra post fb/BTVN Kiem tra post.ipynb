{
 "cells": [
  {
   "cell_type": "code",
   "execution_count": 21,
   "id": "a507a700",
   "metadata": {},
   "outputs": [
    {
     "name": "stdout",
     "output_type": "stream",
     "text": [
      "block\n"
     ]
    }
   ],
   "source": [
    "# sex, racist, violence, child abuse \n",
    "\n",
    "text = 'Cau 1 sex. Cau2 racist. Cau3 violence.'\n",
    "\n",
    "sentence = text.lower().split('.')\n",
    "\n",
    "check0 = 'sex' in sentence[0] or 'racist' in sentence[0] or 'violence' in sentence[0] or 'child abuse' in sentence[0]\n",
    "check1 = 'sex' in sentence[1] or 'racist' in sentence[1] or 'violence' in sentence[1] or 'child abuse' in sentence[1]\n",
    "check2 = 'sex' in sentence[2] or 'racist' in sentence[2] or 'violence' in sentence[2] or 'child abuse' in sentence[2]\n",
    "\n",
    "if check0 == True and check1 == True and check2 == True:\n",
    "    print('block')\n",
    "else: print(text)"
   ]
  },
  {
   "cell_type": "code",
   "execution_count": null,
   "id": "37293bed",
   "metadata": {},
   "outputs": [],
   "source": []
  },
  {
   "cell_type": "raw",
   "id": "064669ef",
   "metadata": {},
   "source": []
  }
 ],
 "metadata": {
  "kernelspec": {
   "display_name": "Python 3 (ipykernel)",
   "language": "python",
   "name": "python3"
  },
  "language_info": {
   "codemirror_mode": {
    "name": "ipython",
    "version": 3
   },
   "file_extension": ".py",
   "mimetype": "text/x-python",
   "name": "python",
   "nbconvert_exporter": "python",
   "pygments_lexer": "ipython3",
   "version": "3.9.7"
  }
 },
 "nbformat": 4,
 "nbformat_minor": 5
}
