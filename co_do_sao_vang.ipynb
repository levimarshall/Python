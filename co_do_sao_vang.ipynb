{
 "cells": [
  {
   "cell_type": "code",
   "execution_count": null,
   "id": "4b12a7a6",
   "metadata": {},
   "outputs": [],
   "source": [
    "# bước 1: import module turtle\n",
    "\n",
    "import turtle\n",
    "\n",
    "# bước 2: tạo ra 1 hoặc nhiều con rùa để làm những câu lệnh ở các bước sau\n",
    "\n",
    "rua1 = turtle.Turtle()\n",
    "rua1.shape('turtle')\n",
    "rua1.hideturtle()\n",
    "rua1.pensize(1)\n",
    "rua1.pencolor('yellow')\n",
    "rua1.fillcolor('yellow')\n",
    "rua1.speed(2)\n",
    "\n",
    "rua2 = turtle.Turtle()\n",
    "rua2.shape('turtle')\n",
    "rua2.hideturtle()\n",
    "rua2.fillcolor('red')\n",
    "rua2.pencolor('red')\n",
    "\n",
    "# bước 3: điều khiển con rùa vừa tạo (rua1)\n",
    "rua2.begin_fill()\n",
    "rua2.right(90)\n",
    "rua2.penup()\n",
    "rua2.forward(100)\n",
    "rua2.pendown()\n",
    "rua2.left(90)\n",
    "rua2.forward(300)\n",
    "rua2.left(90)\n",
    "rua2.forward(350)\n",
    "rua2.left(90)\n",
    "rua2.forward(500)\n",
    "rua2.left(90)\n",
    "rua2.forward(350)\n",
    "rua2.left(90)\n",
    "rua2.forward(200)\n",
    "rua2.end_fill()\n",
    "\n",
    "rua1.begin_fill()\n",
    "rua1.left(72)\n",
    "rua1.forward(200) \n",
    "rua1.right(144)\n",
    "rua1.forward(200)\n",
    "rua1.right(144)\n",
    "rua1.forward(200)\n",
    "rua1.right(144)\n",
    "rua1.forward(200)\n",
    "rua1.right(144)\n",
    "rua1.forward(200)\n",
    "rua1.end_fill()\n",
    "\n",
    "# bước 4: con rùa hoàn thành\n",
    "\n",
    "turtle.done()\n"
   ]
  },
  {
   "cell_type": "code",
   "execution_count": null,
   "id": "793f146e",
   "metadata": {},
   "outputs": [],
   "source": [
    "pwd"
   ]
  },
  {
   "cell_type": "code",
   "execution_count": null,
   "id": "955d4aaf",
   "metadata": {},
   "outputs": [],
   "source": []
  },
  {
   "cell_type": "code",
   "execution_count": null,
   "id": "5e8b7d84",
   "metadata": {},
   "outputs": [],
   "source": []
  },
  {
   "cell_type": "code",
   "execution_count": null,
   "id": "44f4c4a7",
   "metadata": {},
   "outputs": [],
   "source": []
  }
 ],
 "metadata": {
  "kernelspec": {
   "display_name": "Python 3 (ipykernel)",
   "language": "python",
   "name": "python3"
  },
  "language_info": {
   "codemirror_mode": {
    "name": "ipython",
    "version": 3
   },
   "file_extension": ".py",
   "mimetype": "text/x-python",
   "name": "python",
   "nbconvert_exporter": "python",
   "pygments_lexer": "ipython3",
   "version": "3.9.7"
  }
 },
 "nbformat": 4,
 "nbformat_minor": 5
}
