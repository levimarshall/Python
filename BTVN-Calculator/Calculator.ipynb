{
 "cells": [
  {
   "cell_type": "code",
   "execution_count": 1,
   "id": "96697a30",
   "metadata": {},
   "outputs": [],
   "source": [
    "from tkinter import *\n",
    "import tkinter.font as font\n",
    "\n",
    "calculator = Tk()\n",
    "calculator.title('Calculator')\n",
    "calculator.geometry('335x390')\n",
    "\n",
    "entry = Entry(calculator,justify='right',width=21,font=('arial',20,'bold'),bg='#EAECED',bd=9)\n",
    "entry.grid(row=0, columnspan=4)\n",
    "\n",
    "bt1 = Button(calculator, text=\"%\",height=3,width=8,bg='#F6F7F8').grid(row=1, column=0)\n",
    "bt2 = Button(calculator, text=\"CE\",height=3,width=8,bg='#F6F7F8').grid(row=1, column=1)\n",
    "bt3 = Button(calculator,text='C',height=3,width=8,bg='#F6F7F8').grid(row=1, column=2)\n",
    "bt4 = Button(calculator, text=\"Back\",height=3,width=8,bg='silver').grid(row=1, column=3)\n",
    "\n",
    "bt5 = Button(calculator, text=\"π\",height=3,width=8,bg='#F6F7F8').grid(row=2, column=0)\n",
    "bt6 = Button(calculator, text=\"^2\",height=3,width=8,bg='#F6F7F8').grid(row=2, column=1)\n",
    "bt7 = Button(calculator, text=\"√\",height=3,width=8,bg='#F6F7F8').grid(row=2, column=2)\n",
    "bt8 = Button(calculator, text=\"/\",height=3,width=8,bg='#F6F7F8').grid(row=2, column=3)\n",
    "\n",
    "bt9 = Button(calculator, text=\"7\",height=3,width=8,font=('arial',9,'bold'),bg='white').grid(row=3, column=0)\n",
    "bt10 = Button(calculator, text=\"8\",height=3,width=8,font=('arial',9,'bold'),bg='white').grid(row=3, column=1)\n",
    "bt11 = Button(calculator, text=\"9\",height=3,width=8,font=('arial',9,'bold'),bg='white').grid(row=3, column=2)\n",
    "bt12 = Button(calculator, text=\"X\",height=3,width=8,bg='#F6F7F8').grid(row=3, column=3)\n",
    "\n",
    "bt13 = Button(calculator, text=\"4\",height=3,width=8,font=('arial',9,'bold'),bg='white').grid(row=4, column=0)\n",
    "bt14 = Button(calculator, text=\"5\",height=3,width=8,font=('arial',9,'bold'),bg='white').grid(row=4, column=1)\n",
    "bt15 = Button(calculator, text=\"6\",height=3,width=8,font=('arial',9,'bold'),bg='white').grid(row=4, column=2)\n",
    "bt16 = Button(calculator, text=\"-\",height=3,width=8,bg='#F6F7F8').grid(row=4, column=3)\n",
    "\n",
    "bt17 = Button(calculator, text=\"1\",height=3,width=8,font=('arial',9,'bold'),bg='white').grid(row=5, column=0)\n",
    "bt18 = Button(calculator, text=\"2\",height=3,width=8,font=('arial',9,'bold'),bg='white').grid(row=5, column=1)\n",
    "bt19 = Button(calculator, text=\"3\",height=3,width=8,font=('arial',9,'bold'),bg='white').grid(row=5, column=2)\n",
    "bt20 = Button(calculator, text=\"+\",height=3,width=8,bg='#F6F7F8').grid(row=5, column=3)\n",
    "\n",
    "bt21 = Button(calculator, text=\"±\",height=3,width=8,bg='#F6F7F8').grid(row=6, column=0)\n",
    "bt22 = Button(calculator, text=\"0\",height=3,width=8,font=('arial',9,'bold'),bg='white').grid(row=6, column=1)\n",
    "bt23 = Button(calculator, text=\".\",height=3,width=8,bg='#F6F7F8').grid(row=6, column=2)\n",
    "bt24 = Button(calculator, text=\"=\",height=3,width=8,bg='#A7E6F5').grid(row=6, column=3)\n",
    "\n",
    "\n",
    "calculator.mainloop()\n"
   ]
  },
  {
   "cell_type": "code",
   "execution_count": null,
   "id": "d9569e65",
   "metadata": {},
   "outputs": [],
   "source": []
  },
  {
   "cell_type": "code",
   "execution_count": null,
   "id": "851748bb",
   "metadata": {},
   "outputs": [],
   "source": []
  }
 ],
 "metadata": {
  "kernelspec": {
   "display_name": "Python 3 (ipykernel)",
   "language": "python",
   "name": "python3"
  },
  "language_info": {
   "codemirror_mode": {
    "name": "ipython",
    "version": 3
   },
   "file_extension": ".py",
   "mimetype": "text/x-python",
   "name": "python",
   "nbconvert_exporter": "python",
   "pygments_lexer": "ipython3",
   "version": "3.9.7"
  }
 },
 "nbformat": 4,
 "nbformat_minor": 5
}
